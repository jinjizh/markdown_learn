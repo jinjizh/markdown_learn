{
 "cells": [
  {
   "cell_type": "markdown",
   "metadata": {},
   "source": [
    "# 学习链接：https://mp.weixin.qq.com/s/KFbgFGsB_A4MhmiNpsxlBQ"
   ]
  },
  {
   "cell_type": "markdown",
   "metadata": {},
   "source": [
    "## <font color='red' >1. 要点</font><a name='1'></a>\n",
    "[回到目录](#toc)\n",
    "\n",
    "**个人介绍**<a name='CV'></a>\n",
    "\n",
    "- 山东大学（威海）\n",
    "- 北京化工大学\n",
    "\n",
    "**工作**\n",
    "\n",
    "1. **京东云**， 实习，*2018-03~2018-09*\n",
    "2. **京东云**， 工作，*2019-07至今*\n",
    "\n",
    "## <font color='red' >2 公式</font><a name = '2'></a>\n",
    "\n",
    "原生资产的随机微分方程如下：\n",
    "<br/>\n",
    "<font color='blue'>\n",
    "\\begin{equation}\n",
    "    \\frac{dS(t)}{S(t)} = rdt+\\sigma dB(t)\n",
    "    \\end{equation}\n",
    "    </font>\n",
    "    \n",
    "其中\n",
    "- $S(t)$ = 资产在十点$t$的值\n",
    "- $r$ = 常熟型瞬时利率\n",
    "- $\\sigma$ = 常熟型瞬时波动率\n",
    "- $B(t)$ = 布朗运动\n",
    "    \n",
    "    \n",
    "## <font color='red' >3 字体</font>\n",
    "\n",
    "### <font color='red' >3.1 大小</font><a name = '3.1'></a>\n",
    "\n",
    "# 这是一级标题\n",
    "## 这是二级标题\n",
    "\n",
    "### <font color='red' >3.2 格式</font><a name = '3.2'></a>\n",
    "\n",
    "- 单星号 = *斜体*\n",
    "- 单下划线 = _斜体_\n",
    "- 双星号 = **加粗**\n",
    "- 双下划线 = __加粗__\n",
    "- 三星号 = ***斜体加粗***\n",
    "- 三下划线 = ___斜体加粗___\n",
    "- 双波浪号 = ~~删除~~\n",
    "\n",
    "### <font color='red' >3.3 颜色</font><a name = '3.3'></a>\n",
    "\n",
    "- <font color='red' >红色</font>\n",
    "- <font color='blue' >蓝色</font>\n",
    "- <font color='green' >绿色</font>\n",
    "- <font color='yellow' >黄色</font>\n",
    "- <font color='pink' >黄色</font>\n",
    "\n",
    "### <font color='red' >3.4 特征</font><a name = '3.4'></a>\n",
    "\n",
    "- <font face='Concolas' >Concolas</font>\n",
    "- <font face='微软雅黑' >微软雅黑</font>\n",
    "- <font color='#2b4750' size=3 face='黑体'>深青色 3号黑体</font>\n",
    "\n",
    "### <font color='red' >3.4 特征</font><a name = '3.4'></a>\n",
    "\n",
    "- <font face='Concolas' >Concolas</font>\n",
    "- <font face='微软雅黑' >微软雅黑</font>\n",
    "- <font color='#2b4750' size=3 face='黑体'>深青色 3号黑体</font>\n",
    "\n",
    "\n",
    "## <font color='red' >4 引用</font><a name = '4'></a>\n",
    "\n",
    ">这就是引用内容\n",
    ">>这就是引用内容\n",
    ">>>这就是引用内容\n",
    "\n",
    "## <font color='red' >5 表格</font><a name = '5'></a>\n",
    "\n",
    "|内容  |百分比|\n",
    "|----  |------|\n",
    "|python|10%  |\n",
    "\n",
    "\n",
    "## <font color='red' >6 图片</font><a name = '6'></a>\n",
    "\n",
    "<img src=\"7.png\" align=\"center\">\n",
    "     \n",
    " <img src=\"8.png\" align=\"center\">\n"
   ]
  },
  {
   "cell_type": "markdown",
   "metadata": {},
   "source": [
    "## <font color='red' >7 视频</font><a name = '7'></a>"
   ]
  },
  {
   "cell_type": "code",
   "execution_count": null,
   "metadata": {},
   "outputs": [],
   "source": [
    "from IPython.display import YouTubeVideo\n",
    "YouTubeVideo('9RrMcq-zJcU')"
   ]
  },
  {
   "cell_type": "markdown",
   "metadata": {},
   "source": [
    "## <font color='red' >8 HTML</font><a name = '8'></a>"
   ]
  },
  {
   "cell_type": "code",
   "execution_count": 6,
   "metadata": {},
   "outputs": [
    {
     "data": {
      "text/html": [
       "\n",
       "<table style=\"border: 2px solid black;\">\n",
       "<tr><td>0,0</td><td>0,1</td><td>0,2</td><td>0,3</td><td>0,4</td></tr><tr><td>1,0</td><td>1,1</td><td>1,2</td><td>1,3</td><td>1,4</td></tr><tr><td>2,0</td><td>2,1</td><td>2,2</td><td>2,3</td><td>2,4</td></tr><tr><td>3,0</td><td>3,1</td><td>3,2</td><td>3,3</td><td>3,4</td></tr><tr><td>4,0</td><td>4,1</td><td>4,2</td><td>4,3</td><td>4,4</td></tr>\n",
       "</table>\n"
      ],
      "text/plain": [
       "<IPython.core.display.HTML object>"
      ]
     },
     "execution_count": 6,
     "metadata": {},
     "output_type": "execute_result"
    }
   ],
   "source": [
    "from IPython.display import HTML\n",
    "HTML('''\n",
    "<table style=\"border: 2px solid black;\">\n",
    "''' +\n",
    "     ''.join(['<tr>' +\n",
    "             ''.join([f'<td>{row},{col}</td>'\n",
    "                      for col in range(5)]) +\n",
    "              '</tr>' for row in range(5)]) +\n",
    "     '''\n",
    "</table>\n",
    "''')"
   ]
  },
  {
   "cell_type": "markdown",
   "metadata": {},
   "source": [
    "## <font color='red' >9 链接</font><a name = '9'></a>\n",
    "\n",
    "### <font color='red' >9.1 外链接</font><a name = '9.1'></a>\n",
    "- Python - https://www.python.org/\n",
    "- Anaconda - https://anaconda.org/\n",
    "- NumPy - https://numpy.org/\n",
    "- Pandas - https://pandas.pydata.org/\n",
    "- SciPy - https://www.scipy.org/\n",
    "- Matploitlib - https://matplotlib.org/\n",
    "- Seaborn - https://seaborn.pydata.org/\n",
    "- PyEcharts - https://pyecharts.org/#/\n",
    "- Scikit-Learn - https://scikit-learn.org/stable/"
   ]
  },
  {
   "cell_type": "markdown",
   "metadata": {},
   "source": [
    "### <font color='red' >9.2 内链接</font><a name = '9.2'></a>\n",
    "[返回个人介绍](#CV)\n",
    "\n",
    "[返回第8部分](#8)"
   ]
  },
  {
   "cell_type": "markdown",
   "metadata": {},
   "source": [
    "## <font color='red' >10 url</font><a name = '10'></a>"
   ]
  },
  {
   "cell_type": "code",
   "execution_count": 8,
   "metadata": {},
   "outputs": [
    {
     "data": {
      "text/html": [
       "\n",
       "        <iframe\n",
       "            width=\"800\"\n",
       "            height=\"450\"\n",
       "            src=\"https://cloud.tencent.com/developer/news/382851\"\n",
       "            frameborder=\"0\"\n",
       "            allowfullscreen\n",
       "        ></iframe>\n",
       "        "
      ],
      "text/plain": [
       "<IPython.lib.display.IFrame at 0x209d2729be0>"
      ]
     },
     "execution_count": 8,
     "metadata": {},
     "output_type": "execute_result"
    }
   ],
   "source": [
    "from IPython.display import IFrame\n",
    "IFrame('https://cloud.tencent.com/developer/news/382851',width=800,height=450)"
   ]
  },
  {
   "cell_type": "markdown",
   "metadata": {},
   "source": [
    "## <font color='red' >11 pdf</font><a name = '11'></a>"
   ]
  },
  {
   "cell_type": "code",
   "execution_count": 1,
   "metadata": {},
   "outputs": [
    {
     "data": {
      "text/html": [
       "\n",
       "        <iframe\n",
       "            width=\"800\"\n",
       "            height=\"450\"\n",
       "            src=\"E:\\京东文件\u0001工作\u0005算法模型\\京东云-产品推荐\\京东云用户的产品推荐2.pdf\"\n",
       "            frameborder=\"0\"\n",
       "            allowfullscreen\n",
       "        ></iframe>\n",
       "        "
      ],
      "text/plain": [
       "<IPython.lib.display.IFrame at 0x1903debb7f0>"
      ]
     },
     "execution_count": 1,
     "metadata": {},
     "output_type": "execute_result"
    }
   ],
   "source": [
    "from IPython.display import IFrame\n",
    "IFrame('E:\\京东文件\\1工作\\5算法模型\\京东云-产品推荐\\京东云用户的产品推荐2.pdf',width=800,height=450)"
   ]
  },
  {
   "cell_type": "code",
   "execution_count": null,
   "metadata": {},
   "outputs": [],
   "source": []
  }
 ],
 "metadata": {
  "kernelspec": {
   "display_name": "Python 3",
   "language": "python",
   "name": "python3"
  },
  "language_info": {
   "codemirror_mode": {
    "name": "ipython",
    "version": 3
   },
   "file_extension": ".py",
   "mimetype": "text/x-python",
   "name": "python",
   "nbconvert_exporter": "python",
   "pygments_lexer": "ipython3",
   "version": "3.7.0"
  },
  "toc": {
   "base_numbering": 1,
   "nav_menu": {},
   "number_sections": true,
   "sideBar": true,
   "skip_h1_title": false,
   "title_cell": "Table of Contents",
   "title_sidebar": "Contents",
   "toc_cell": false,
   "toc_position": {
    "height": "calc(100% - 180px)",
    "left": "10px",
    "top": "150px",
    "width": "315.819px"
   },
   "toc_section_display": true,
   "toc_window_display": true
  }
 },
 "nbformat": 4,
 "nbformat_minor": 2
}
